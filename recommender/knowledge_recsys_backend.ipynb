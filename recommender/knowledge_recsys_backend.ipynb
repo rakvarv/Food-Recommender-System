{
 "cells": [
  {
   "cell_type": "code",
   "execution_count": 1,
   "metadata": {},
   "outputs": [],
   "source": [
    "import pandas as pd\n",
    "import seaborn as sns\n",
    "import matplotlib.pyplot as plt\n",
    "from scipy import spatial\n"
   ]
  },
  {
   "cell_type": "code",
   "execution_count": 2,
   "metadata": {},
   "outputs": [
    {
     "name": "stdout",
     "output_type": "stream",
     "text": [
      "Requirement already satisfied: scipy in c:\\users\\rakva\\anaconda3\\lib\\site-packages (1.5.2)\n",
      "Requirement already satisfied: numpy>=1.14.5 in c:\\users\\rakva\\anaconda3\\lib\\site-packages (from scipy) (1.19.2)\n",
      "Note: you may need to restart the kernel to use updated packages.\n"
     ]
    }
   ],
   "source": [
    "%pip install scipy"
   ]
  },
  {
   "cell_type": "code",
   "execution_count": 3,
   "metadata": {},
   "outputs": [],
   "source": [
    "df = pd.read_excel(r'giallozaferano_dataset.xlsx')"
   ]
  },
  {
   "cell_type": "code",
   "execution_count": 4,
   "metadata": {},
   "outputs": [
    {
     "data": {
      "text/html": [
       "<div>\n",
       "<style scoped>\n",
       "    .dataframe tbody tr th:only-of-type {\n",
       "        vertical-align: middle;\n",
       "    }\n",
       "\n",
       "    .dataframe tbody tr th {\n",
       "        vertical-align: top;\n",
       "    }\n",
       "\n",
       "    .dataframe thead th {\n",
       "        text-align: right;\n",
       "    }\n",
       "</style>\n",
       "<table border=\"1\" class=\"dataframe\">\n",
       "  <thead>\n",
       "    <tr style=\"text-align: right;\">\n",
       "      <th></th>\n",
       "      <th>url</th>\n",
       "      <th>title</th>\n",
       "      <th>cost</th>\n",
       "      <th>category</th>\n",
       "      <th>imageURL</th>\n",
       "      <th>description</th>\n",
       "      <th>prepTime</th>\n",
       "      <th>cookTime</th>\n",
       "      <th>totalTime</th>\n",
       "      <th>yield</th>\n",
       "      <th>...</th>\n",
       "      <th>fibers</th>\n",
       "      <th>cholesterol</th>\n",
       "      <th>sodium</th>\n",
       "      <th>ingredients_measure</th>\n",
       "      <th>ingredients</th>\n",
       "      <th>instructions</th>\n",
       "      <th>bestRating</th>\n",
       "      <th>ratingCount</th>\n",
       "      <th>ratingValue</th>\n",
       "      <th>difficulty</th>\n",
       "    </tr>\n",
       "  </thead>\n",
       "  <tbody>\n",
       "    <tr>\n",
       "      <th>0</th>\n",
       "      <td>https://ricette.giallozafferano.it/Pancakes-al...</td>\n",
       "      <td>Pancakes with dacere syrup</td>\n",
       "      <td>Molto basso</td>\n",
       "      <td>Dolci</td>\n",
       "      <td>https://www.giallozafferano.it/images/ricette/...</td>\n",
       "      <td>Making pancakes at home is very simple, you ne...</td>\n",
       "      <td>PT15M</td>\n",
       "      <td>PT20M</td>\n",
       "      <td>PT35M</td>\n",
       "      <td>4</td>\n",
       "      <td>...</td>\n",
       "      <td>0.9</td>\n",
       "      <td>117.0</td>\n",
       "      <td>63.0</td>\n",
       "      <td>[Butter 25g, Flour 00 125g, Medium Eggs 2, Fre...</td>\n",
       "      <td>[Butter, Flour 00, Eggs, Whole Milk, Baking Po...</td>\n",
       "      <td>Iniziamo la preparazione dei pancake fondendo ...</td>\n",
       "      <td>5.0</td>\n",
       "      <td>736.0</td>\n",
       "      <td>4.4</td>\n",
       "      <td>Molto facile</td>\n",
       "    </tr>\n",
       "    <tr>\n",
       "      <th>1</th>\n",
       "      <td>https://ricette.giallozafferano.it/Tiramisu.html</td>\n",
       "      <td>Tiramisu</td>\n",
       "      <td>Medio</td>\n",
       "      <td>Dolci</td>\n",
       "      <td>https://www.giallozafferano.it/images/ricette/...</td>\n",
       "      <td>Tiramisu is definitely one of the most delicio...</td>\n",
       "      <td>PT40M</td>\n",
       "      <td>PTM</td>\n",
       "      <td>PT40M</td>\n",
       "      <td>8</td>\n",
       "      <td>...</td>\n",
       "      <td>1.4</td>\n",
       "      <td>259.0</td>\n",
       "      <td>151.0</td>\n",
       "      <td>[Savoiardi 300g, Fresh eggs (about 4 medium) 2...</td>\n",
       "      <td>[Savoiardi, Eggs, Mascarpone, Sugar, Coffee, C...</td>\n",
       "      <td>Per preparare il tiramisÃ¹ cominciate dalle uo...</td>\n",
       "      <td>5.0</td>\n",
       "      <td>1055.0</td>\n",
       "      <td>4.2</td>\n",
       "      <td>Facile</td>\n",
       "    </tr>\n",
       "    <tr>\n",
       "      <th>2</th>\n",
       "      <td>https://ricette.giallozafferano.it/Crepes-dolc...</td>\n",
       "      <td>Sweet and salty crepes (basic recipe)</td>\n",
       "      <td>Basso</td>\n",
       "      <td>Dolci</td>\n",
       "      <td>https://www.giallozafferano.it/images/ricette/...</td>\n",
       "      <td>Thanks to the basic dough of sweet and salty c...</td>\n",
       "      <td>PT10M</td>\n",
       "      <td>PT15M</td>\n",
       "      <td>PT25M</td>\n",
       "      <td>8</td>\n",
       "      <td>...</td>\n",
       "      <td>0.8</td>\n",
       "      <td>83.0</td>\n",
       "      <td>56.0</td>\n",
       "      <td>[Medium eggs 3, Flour 00 250g, Whole milk 500m...</td>\n",
       "      <td>[Eggs, Flour 00, Whole Milk, Butter]</td>\n",
       "      <td>Per preparare le crepe dolci e salate iniziate...</td>\n",
       "      <td>5.0</td>\n",
       "      <td>381.0</td>\n",
       "      <td>4.2</td>\n",
       "      <td>Facile</td>\n",
       "    </tr>\n",
       "    <tr>\n",
       "      <th>3</th>\n",
       "      <td>https://ricette.giallozafferano.it/Spaghetti-a...</td>\n",
       "      <td>Spaghetti carbonara</td>\n",
       "      <td>Basso</td>\n",
       "      <td>Primi piatti</td>\n",
       "      <td>https://www.giallozafferano.it/images/ricette/...</td>\n",
       "      <td>The recipe for spaghetti carbonara is typical ...</td>\n",
       "      <td>PT15M</td>\n",
       "      <td>PT10M</td>\n",
       "      <td>PT25M</td>\n",
       "      <td>4</td>\n",
       "      <td>...</td>\n",
       "      <td>2.2</td>\n",
       "      <td>383.0</td>\n",
       "      <td>586.0</td>\n",
       "      <td>[Spaghetti 320 g, Cheek 150g, Medium Egg Yolks...</td>\n",
       "      <td>[Spaghetti, Guanciale, Yolks, Roman Pecorino, ...</td>\n",
       "      <td>Per preparare gli spaghetti alla carbonara com...</td>\n",
       "      <td>5.0</td>\n",
       "      <td>854.0</td>\n",
       "      <td>4.2</td>\n",
       "      <td>Facile</td>\n",
       "    </tr>\n",
       "    <tr>\n",
       "      <th>4</th>\n",
       "      <td>https://ricette.giallozafferano.it/Impasto-per...</td>\n",
       "      <td>Pasta for pizza</td>\n",
       "      <td>Molto basso</td>\n",
       "      <td>Lievitati</td>\n",
       "      <td>https://www.giallozafferano.it/images/ricette/...</td>\n",
       "      <td>The dough for pizza is a basic preparation mad...</td>\n",
       "      <td>PT20M</td>\n",
       "      <td>PTM</td>\n",
       "      <td>PT20M</td>\n",
       "      <td>2</td>\n",
       "      <td>...</td>\n",
       "      <td>6.3</td>\n",
       "      <td>NaN</td>\n",
       "      <td>1966.0</td>\n",
       "      <td>[Farina Manitoba 200g, Flour 00 300g, Water at...</td>\n",
       "      <td>[Farina Manitoba, Flour 00, Water, \"Extra Virg...</td>\n",
       "      <td>Per preparare la pasta per la pizza abbiamo sc...</td>\n",
       "      <td>5.0</td>\n",
       "      <td>367.0</td>\n",
       "      <td>4.2</td>\n",
       "      <td>Facile</td>\n",
       "    </tr>\n",
       "  </tbody>\n",
       "</table>\n",
       "<p>5 rows × 31 columns</p>\n",
       "</div>"
      ],
      "text/plain": [
       "                                                 url  \\\n",
       "0  https://ricette.giallozafferano.it/Pancakes-al...   \n",
       "1   https://ricette.giallozafferano.it/Tiramisu.html   \n",
       "2  https://ricette.giallozafferano.it/Crepes-dolc...   \n",
       "3  https://ricette.giallozafferano.it/Spaghetti-a...   \n",
       "4  https://ricette.giallozafferano.it/Impasto-per...   \n",
       "\n",
       "                                   title         cost      category  \\\n",
       "0             Pancakes with dacere syrup  Molto basso         Dolci   \n",
       "1                               Tiramisu        Medio         Dolci   \n",
       "2  Sweet and salty crepes (basic recipe)        Basso         Dolci   \n",
       "3                    Spaghetti carbonara        Basso  Primi piatti   \n",
       "4                        Pasta for pizza  Molto basso     Lievitati   \n",
       "\n",
       "                                            imageURL  \\\n",
       "0  https://www.giallozafferano.it/images/ricette/...   \n",
       "1  https://www.giallozafferano.it/images/ricette/...   \n",
       "2  https://www.giallozafferano.it/images/ricette/...   \n",
       "3  https://www.giallozafferano.it/images/ricette/...   \n",
       "4  https://www.giallozafferano.it/images/ricette/...   \n",
       "\n",
       "                                         description prepTime cookTime  \\\n",
       "0  Making pancakes at home is very simple, you ne...    PT15M    PT20M   \n",
       "1  Tiramisu is definitely one of the most delicio...    PT40M      PTM   \n",
       "2  Thanks to the basic dough of sweet and salty c...    PT10M    PT15M   \n",
       "3  The recipe for spaghetti carbonara is typical ...    PT15M    PT10M   \n",
       "4  The dough for pizza is a basic preparation mad...    PT20M      PTM   \n",
       "\n",
       "  totalTime  yield  ...  fibers  cholesterol  sodium  \\\n",
       "0     PT35M      4  ...     0.9        117.0    63.0   \n",
       "1     PT40M      8  ...     1.4        259.0   151.0   \n",
       "2     PT25M      8  ...     0.8         83.0    56.0   \n",
       "3     PT25M      4  ...     2.2        383.0   586.0   \n",
       "4     PT20M      2  ...     6.3          NaN  1966.0   \n",
       "\n",
       "                                 ingredients_measure  \\\n",
       "0  [Butter 25g, Flour 00 125g, Medium Eggs 2, Fre...   \n",
       "1  [Savoiardi 300g, Fresh eggs (about 4 medium) 2...   \n",
       "2  [Medium eggs 3, Flour 00 250g, Whole milk 500m...   \n",
       "3  [Spaghetti 320 g, Cheek 150g, Medium Egg Yolks...   \n",
       "4  [Farina Manitoba 200g, Flour 00 300g, Water at...   \n",
       "\n",
       "                                         ingredients  \\\n",
       "0  [Butter, Flour 00, Eggs, Whole Milk, Baking Po...   \n",
       "1  [Savoiardi, Eggs, Mascarpone, Sugar, Coffee, C...   \n",
       "2               [Eggs, Flour 00, Whole Milk, Butter]   \n",
       "3  [Spaghetti, Guanciale, Yolks, Roman Pecorino, ...   \n",
       "4  [Farina Manitoba, Flour 00, Water, \"Extra Virg...   \n",
       "\n",
       "                                        instructions  bestRating  ratingCount  \\\n",
       "0  Iniziamo la preparazione dei pancake fondendo ...         5.0        736.0   \n",
       "1  Per preparare il tiramisÃ¹ cominciate dalle uo...         5.0       1055.0   \n",
       "2  Per preparare le crepe dolci e salate iniziate...         5.0        381.0   \n",
       "3  Per preparare gli spaghetti alla carbonara com...         5.0        854.0   \n",
       "4  Per preparare la pasta per la pizza abbiamo sc...         5.0        367.0   \n",
       "\n",
       "   ratingValue    difficulty  \n",
       "0          4.4  Molto facile  \n",
       "1          4.2        Facile  \n",
       "2          4.2        Facile  \n",
       "3          4.2        Facile  \n",
       "4          4.2        Facile  \n",
       "\n",
       "[5 rows x 31 columns]"
      ]
     },
     "execution_count": 4,
     "metadata": {},
     "output_type": "execute_result"
    }
   ],
   "source": [
    "df.head(5)"
   ]
  },
  {
   "cell_type": "code",
   "execution_count": 5,
   "metadata": {},
   "outputs": [
    {
     "data": {
      "text/plain": [
       "0        736.0\n",
       "1       1055.0\n",
       "2        381.0\n",
       "3        854.0\n",
       "4        367.0\n",
       "         ...  \n",
       "4636       2.0\n",
       "4637      25.0\n",
       "4638       1.0\n",
       "4639       6.0\n",
       "4640       1.0\n",
       "Name: ratingCount, Length: 4641, dtype: float64"
      ]
     },
     "execution_count": 5,
     "metadata": {},
     "output_type": "execute_result"
    }
   ],
   "source": [
    "df[\"ratingCount\"]"
   ]
  },
  {
   "cell_type": "markdown",
   "metadata": {},
   "source": [
    "# Pre-processing"
   ]
  },
  {
   "cell_type": "markdown",
   "metadata": {},
   "source": [
    "# Check column datatypes"
   ]
  },
  {
   "cell_type": "code",
   "execution_count": 6,
   "metadata": {},
   "outputs": [
    {
     "data": {
      "text/plain": [
       "url                     object\n",
       "title                   object\n",
       "cost                    object\n",
       "category                object\n",
       "imageURL                object\n",
       "description             object\n",
       "prepTime                object\n",
       "cookTime                object\n",
       "totalTime               object\n",
       "yield                    int64\n",
       "isVegetarian             int64\n",
       "isLactoseFree            int64\n",
       "isGlutenFree             int64\n",
       "isLight                  int64\n",
       "isLowNickel              int64\n",
       "calories               float64\n",
       "carbohydrates          float64\n",
       "sugars                 float64\n",
       "proteins               float64\n",
       "fat                    float64\n",
       "saturatedFat           float64\n",
       "fibers                 float64\n",
       "cholesterol            float64\n",
       "sodium                 float64\n",
       "ingredients_measure     object\n",
       "ingredients             object\n",
       "instructions            object\n",
       "bestRating             float64\n",
       "ratingCount            float64\n",
       "ratingValue            float64\n",
       "difficulty              object\n",
       "dtype: object"
      ]
     },
     "execution_count": 6,
     "metadata": {},
     "output_type": "execute_result"
    }
   ],
   "source": [
    "df.dtypes"
   ]
  },
  {
   "cell_type": "code",
   "execution_count": 7,
   "metadata": {},
   "outputs": [
    {
     "data": {
      "text/plain": [
       "array(['Molto facile', 'Facile', 'Media', 'Difficile', 'Molto difficile',\n",
       "       nan], dtype=object)"
      ]
     },
     "execution_count": 7,
     "metadata": {},
     "output_type": "execute_result"
    }
   ],
   "source": [
    "df.difficulty.unique()"
   ]
  },
  {
   "cell_type": "markdown",
   "metadata": {},
   "source": [
    "# Convert columns to appropriate DataTypes"
   ]
  },
  {
   "cell_type": "code",
   "execution_count": 8,
   "metadata": {},
   "outputs": [],
   "source": [
    "cost_cat_dic = {\n",
    "    'Molto basso': '1',\n",
    "    'Basso': '2',\n",
    "    'Medio': '3',\n",
    "    'Elevato': '4',\n",
    "    'Molto elevata': '5'\n",
    "}\n",
    "\n",
    "diff_cat_dic = {\n",
    "    'Molto facile': '1',\n",
    "    'Facile': '2',\n",
    "    'Media' : '3',\n",
    "    'Difficile': '4',\n",
    "    'Molto difficile': '5'\n",
    "}\n",
    "\n",
    "df.replace({\"cost\": cost_cat_dic}, inplace=True)\n",
    "df.replace({\"difficulty\": diff_cat_dic}, inplace=True)"
   ]
  },
  {
   "cell_type": "code",
   "execution_count": 9,
   "metadata": {},
   "outputs": [
    {
     "data": {
      "text/plain": [
       "0    1\n",
       "1    2\n",
       "2    2\n",
       "3    2\n",
       "4    2\n",
       "Name: difficulty, dtype: object"
      ]
     },
     "execution_count": 9,
     "metadata": {},
     "output_type": "execute_result"
    }
   ],
   "source": [
    "df.difficulty.head()"
   ]
  },
  {
   "cell_type": "code",
   "execution_count": 10,
   "metadata": {},
   "outputs": [],
   "source": [
    "# Remove non-numeric values and convert totalTime to integer datatype. \n",
    "df[\"totalTime\"] = df[\"totalTime\"].str.extract('(\\d+)', expand=False)\n",
    "df[\"totalTime\"] = pd.to_numeric(df[\"totalTime\"], errors=\"coerce\")\n",
    "df[\"ratingCount\"] = pd.to_numeric(df[\"ratingCount\"], errors=\"coerce\")\n",
    "\n",
    "# Remove non-numeric values and convert prepTime & cookTime to integer datatype. \n",
    "df[\"cookTime\"] = df[\"cookTime\"].str.extract('(\\d+)', expand=False)\n",
    "df[\"prepTime\"] = df[\"prepTime\"].str.extract('(\\d+)', expand=False)\n",
    "df[\"cookTime\"] = pd.to_numeric(df[\"cookTime\"], errors=\"coerce\")\n",
    "df[\"prepTime\"] = pd.to_numeric(df[\"prepTime\"], errors=\"coerce\")\n",
    "\n",
    "# Converting cost text categories in to numbers and performing numeric conversion on column\n",
    "df[\"cost\"] = pd.to_numeric(df[\"cost\"], errors=\"coerce\")\n",
    "df[\"difficulty\"] = pd.to_numeric(df[\"difficulty\"], errors=\"coerce\")"
   ]
  },
  {
   "cell_type": "code",
   "execution_count": 11,
   "metadata": {},
   "outputs": [
    {
     "data": {
      "text/plain": [
       "dtype('float64')"
      ]
     },
     "execution_count": 11,
     "metadata": {},
     "output_type": "execute_result"
    }
   ],
   "source": [
    "df.cost.dtype"
   ]
  },
  {
   "cell_type": "markdown",
   "metadata": {},
   "source": [
    "# Drop columns not needed for recommendation"
   ]
  },
  {
   "cell_type": "code",
   "execution_count": 12,
   "metadata": {},
   "outputs": [],
   "source": [
    "del df[\"bestRating\"] # Servers us no real as it only takes one rating to make a max"
   ]
  },
  {
   "cell_type": "markdown",
   "metadata": {},
   "source": [
    "# Check for NaN values in DF & Visualization"
   ]
  },
  {
   "cell_type": "code",
   "execution_count": 13,
   "metadata": {},
   "outputs": [
    {
     "data": {
      "text/html": [
       "<div>\n",
       "<style scoped>\n",
       "    .dataframe tbody tr th:only-of-type {\n",
       "        vertical-align: middle;\n",
       "    }\n",
       "\n",
       "    .dataframe tbody tr th {\n",
       "        vertical-align: top;\n",
       "    }\n",
       "\n",
       "    .dataframe thead th {\n",
       "        text-align: right;\n",
       "    }\n",
       "</style>\n",
       "<table border=\"1\" class=\"dataframe\">\n",
       "  <thead>\n",
       "    <tr style=\"text-align: right;\">\n",
       "      <th></th>\n",
       "      <th>column</th>\n",
       "      <th>percent_missing</th>\n",
       "    </tr>\n",
       "  </thead>\n",
       "  <tbody>\n",
       "    <tr>\n",
       "      <th>url</th>\n",
       "      <td>url</td>\n",
       "      <td>0.000000</td>\n",
       "    </tr>\n",
       "    <tr>\n",
       "      <th>ingredients</th>\n",
       "      <td>ingredients</td>\n",
       "      <td>0.000000</td>\n",
       "    </tr>\n",
       "    <tr>\n",
       "      <th>ingredients_measure</th>\n",
       "      <td>ingredients_measure</td>\n",
       "      <td>0.000000</td>\n",
       "    </tr>\n",
       "    <tr>\n",
       "      <th>isLight</th>\n",
       "      <td>isLight</td>\n",
       "      <td>0.000000</td>\n",
       "    </tr>\n",
       "    <tr>\n",
       "      <th>isGlutenFree</th>\n",
       "      <td>isGlutenFree</td>\n",
       "      <td>0.000000</td>\n",
       "    </tr>\n",
       "    <tr>\n",
       "      <th>isLactoseFree</th>\n",
       "      <td>isLactoseFree</td>\n",
       "      <td>0.000000</td>\n",
       "    </tr>\n",
       "    <tr>\n",
       "      <th>isVegetarian</th>\n",
       "      <td>isVegetarian</td>\n",
       "      <td>0.000000</td>\n",
       "    </tr>\n",
       "    <tr>\n",
       "      <th>yield</th>\n",
       "      <td>yield</td>\n",
       "      <td>0.000000</td>\n",
       "    </tr>\n",
       "    <tr>\n",
       "      <th>isLowNickel</th>\n",
       "      <td>isLowNickel</td>\n",
       "      <td>0.000000</td>\n",
       "    </tr>\n",
       "    <tr>\n",
       "      <th>description</th>\n",
       "      <td>description</td>\n",
       "      <td>0.000000</td>\n",
       "    </tr>\n",
       "    <tr>\n",
       "      <th>imageURL</th>\n",
       "      <td>imageURL</td>\n",
       "      <td>0.000000</td>\n",
       "    </tr>\n",
       "    <tr>\n",
       "      <th>category</th>\n",
       "      <td>category</td>\n",
       "      <td>0.000000</td>\n",
       "    </tr>\n",
       "    <tr>\n",
       "      <th>title</th>\n",
       "      <td>title</td>\n",
       "      <td>0.000000</td>\n",
       "    </tr>\n",
       "    <tr>\n",
       "      <th>totalTime</th>\n",
       "      <td>totalTime</td>\n",
       "      <td>0.000000</td>\n",
       "    </tr>\n",
       "    <tr>\n",
       "      <th>instructions</th>\n",
       "      <td>instructions</td>\n",
       "      <td>0.021547</td>\n",
       "    </tr>\n",
       "    <tr>\n",
       "      <th>difficulty</th>\n",
       "      <td>difficulty</td>\n",
       "      <td>0.150830</td>\n",
       "    </tr>\n",
       "    <tr>\n",
       "      <th>prepTime</th>\n",
       "      <td>prepTime</td>\n",
       "      <td>0.366300</td>\n",
       "    </tr>\n",
       "    <tr>\n",
       "      <th>ratingValue</th>\n",
       "      <td>ratingValue</td>\n",
       "      <td>0.603318</td>\n",
       "    </tr>\n",
       "    <tr>\n",
       "      <th>ratingCount</th>\n",
       "      <td>ratingCount</td>\n",
       "      <td>0.603318</td>\n",
       "    </tr>\n",
       "    <tr>\n",
       "      <th>cookTime</th>\n",
       "      <td>cookTime</td>\n",
       "      <td>7.282913</td>\n",
       "    </tr>\n",
       "    <tr>\n",
       "      <th>cost</th>\n",
       "      <td>cost</td>\n",
       "      <td>8.920491</td>\n",
       "    </tr>\n",
       "    <tr>\n",
       "      <th>calories</th>\n",
       "      <td>calories</td>\n",
       "      <td>28.334411</td>\n",
       "    </tr>\n",
       "    <tr>\n",
       "      <th>carbohydrates</th>\n",
       "      <td>carbohydrates</td>\n",
       "      <td>28.442146</td>\n",
       "    </tr>\n",
       "    <tr>\n",
       "      <th>sugars</th>\n",
       "      <td>sugars</td>\n",
       "      <td>28.463693</td>\n",
       "    </tr>\n",
       "    <tr>\n",
       "      <th>proteins</th>\n",
       "      <td>proteins</td>\n",
       "      <td>28.592976</td>\n",
       "    </tr>\n",
       "    <tr>\n",
       "      <th>sodium</th>\n",
       "      <td>sodium</td>\n",
       "      <td>28.657617</td>\n",
       "    </tr>\n",
       "    <tr>\n",
       "      <th>saturatedFat</th>\n",
       "      <td>saturatedFat</td>\n",
       "      <td>29.217841</td>\n",
       "    </tr>\n",
       "    <tr>\n",
       "      <th>fat</th>\n",
       "      <td>fat</td>\n",
       "      <td>29.325576</td>\n",
       "    </tr>\n",
       "    <tr>\n",
       "      <th>fibers</th>\n",
       "      <td>fibers</td>\n",
       "      <td>29.605688</td>\n",
       "    </tr>\n",
       "    <tr>\n",
       "      <th>cholesterol</th>\n",
       "      <td>cholesterol</td>\n",
       "      <td>39.452704</td>\n",
       "    </tr>\n",
       "  </tbody>\n",
       "</table>\n",
       "</div>"
      ],
      "text/plain": [
       "                                  column  percent_missing\n",
       "url                                  url         0.000000\n",
       "ingredients                  ingredients         0.000000\n",
       "ingredients_measure  ingredients_measure         0.000000\n",
       "isLight                          isLight         0.000000\n",
       "isGlutenFree                isGlutenFree         0.000000\n",
       "isLactoseFree              isLactoseFree         0.000000\n",
       "isVegetarian                isVegetarian         0.000000\n",
       "yield                              yield         0.000000\n",
       "isLowNickel                  isLowNickel         0.000000\n",
       "description                  description         0.000000\n",
       "imageURL                        imageURL         0.000000\n",
       "category                        category         0.000000\n",
       "title                              title         0.000000\n",
       "totalTime                      totalTime         0.000000\n",
       "instructions                instructions         0.021547\n",
       "difficulty                    difficulty         0.150830\n",
       "prepTime                        prepTime         0.366300\n",
       "ratingValue                  ratingValue         0.603318\n",
       "ratingCount                  ratingCount         0.603318\n",
       "cookTime                        cookTime         7.282913\n",
       "cost                                cost         8.920491\n",
       "calories                        calories        28.334411\n",
       "carbohydrates              carbohydrates        28.442146\n",
       "sugars                            sugars        28.463693\n",
       "proteins                        proteins        28.592976\n",
       "sodium                            sodium        28.657617\n",
       "saturatedFat                saturatedFat        29.217841\n",
       "fat                                  fat        29.325576\n",
       "fibers                            fibers        29.605688\n",
       "cholesterol                  cholesterol        39.452704"
      ]
     },
     "execution_count": 13,
     "metadata": {},
     "output_type": "execute_result"
    }
   ],
   "source": [
    "# Displaying what percentage of data is non-values in each column\n",
    "percent_missing = df.isnull().sum() * 100 / len(df)\n",
    "missing_value_df = pd.DataFrame({'column': df.columns,\n",
    "                                'percent_missing':percent_missing})\n",
    "missing_value_df.sort_values('percent_missing', inplace=True)\n",
    "missing_value_df"
   ]
  },
  {
   "cell_type": "code",
   "execution_count": 14,
   "metadata": {},
   "outputs": [
    {
     "data": {
      "text/plain": [
       "<seaborn.axisgrid.FacetGrid at 0x1ae7f0e8b80>"
      ]
     },
     "execution_count": 14,
     "metadata": {},
     "output_type": "execute_result"
    },
    {
     "data": {
      "text/plain": [
       "<Figure size 720x432 with 0 Axes>"
      ]
     },
     "metadata": {},
     "output_type": "display_data"
    },
    {
     "data": {
      "image/png": "[encoded data removed]",
      "text/plain": [
       "<Figure size 511.25x360 with 1 Axes>"
      ]
     },
     "metadata": {
      "needs_background": "light"
     },
     "output_type": "display_data"
    }
   ],
   "source": [
    "plt.figure(figsize=(10,6))\n",
    "sns.displot(\n",
    "    data=df.isna().melt(value_name=\"missing\"),\n",
    "    y=\"variable\",\n",
    "    hue=\"missing\",\n",
    "    multiple=\"fill\",\n",
    "    aspect=1.25\n",
    ")"
   ]
  },
  {
   "cell_type": "markdown",
   "metadata": {},
   "source": [
    "# Handling NaN values. "
   ]
  },
  {
   "cell_type": "code",
   "execution_count": 15,
   "metadata": {},
   "outputs": [],
   "source": [
    "# Dropping all rows with NaN values from cost column is NaN values or inaccurate values\n",
    "# devalues the whole point of the recommendation, \n",
    "df = df.dropna(subset=[\"cost\"])\n",
    "\n",
    "# Replacing all missing values with 0 and use the value 0\n",
    "# as a mark to state that the amount of that certain feature is unknown\n",
    "df[\"cholesterol\"].fillna(0, inplace=True)\n",
    "df[\"fibers\"].fillna(0, inplace=True)\n",
    "df[\"fat\"].fillna(0, inplace=True)\n",
    "df[\"saturatedFat\"].fillna(0, inplace=True)\n",
    "df[\"sodium\"].fillna(0, inplace=True)\n",
    "df[\"saturatedFat\"].fillna(0, inplace=True)\n",
    "df[\"proteins\"].fillna(0, inplace=True)\n",
    "df[\"sugars\"].fillna(0, inplace=True)\n",
    "df[\"carbohydrates\"].fillna(0, inplace=True)\n",
    "df[\"calories\"].fillna(0, inplace=True)"
   ]
  },
  {
   "cell_type": "markdown",
   "metadata": {},
   "source": [
    "# Visualizing NaN values after pre-processing"
   ]
  },
  {
   "cell_type": "code",
   "execution_count": 16,
   "metadata": {},
   "outputs": [
    {
     "data": {
      "text/plain": [
       "<seaborn.axisgrid.FacetGrid at 0x1ae028e0130>"
      ]
     },
     "execution_count": 16,
     "metadata": {},
     "output_type": "execute_result"
    },
    {
     "data": {
      "text/plain": [
       "<Figure size 720x432 with 0 Axes>"
      ]
     },
     "metadata": {},
     "output_type": "display_data"
    },
    {
     "data": {
      "image/png": "[encoded data removed]",
      "text/plain": [
       "<Figure size 511.25x360 with 1 Axes>"
      ]
     },
     "metadata": {
      "needs_background": "light"
     },
     "output_type": "display_data"
    }
   ],
   "source": [
    "plt.figure(figsize=(10,6))\n",
    "sns.displot(\n",
    "    data=df.isna().melt(value_name=\"missing\"),\n",
    "    y=\"variable\",\n",
    "    hue=\"missing\",\n",
    "    multiple=\"fill\",\n",
    "    aspect=1.25\n",
    ")"
   ]
  },
  {
   "cell_type": "markdown",
   "metadata": {},
   "source": [
    "# KRecSys chart builder (Price ONLY)"
   ]
  },
  {
   "cell_type": "code",
   "execution_count": 17,
   "metadata": {},
   "outputs": [],
   "source": [
    "def rec_chart_builder(gen_df, percentile=0.5):\n",
    "    # asking for preferred price range\n",
    "    print(\"\"\"On a scale from 1-5, how expensive should the food be.\n",
    "    \\n1: Very cheap \\n2: Cheap \\n3: Okay \\n4: Expensive 5:\n",
    "    Very Expensive\"\"\")\n",
    "    price = int(input())\n",
    "    while price < 1 & price > 5:\n",
    "        print(\"\"\"On a scale from 1-5, how expensive should the food be.\n",
    "        \\n1: Very cheap \\n2: Cheap \\n3: Okay \\n4: Expensive 5:\n",
    "        Very Expensive\"\"\")\n",
    "        price = int(input())\n",
    "    \n",
    "    recipes = gen_df.copy()\n",
    "    \n",
    "    recipes = recipes[recipes['cost'] <= price]\n",
    "    \n",
    "    c = recipes[\"cost\"].mean()\n",
    "    m = recipes[\"ratingValue\"].quantile(percentile)\n",
    "    \n",
    "    q_recipes = recipes.copy().loc[recipes[\"ratingValue\"] >= m]\n",
    "    \n",
    "    q_recipes[\"score\"] = q_recipes.apply(lambda x: (x['ratingValue']/(x['ratingValue']+m) * x['cost'])\n",
    "                                + (m/(m+x['ratingValue']) * c)\n",
    "                                ,axis=1)\n",
    "    \n",
    "    q_recipes.head()\n",
    "    \n",
    "    q_recipes.sort_values('score', ascending=False)\n",
    "    \n",
    "    return q_recipes"
   ]
  },
  {
   "cell_type": "code",
   "execution_count": 18,
   "metadata": {},
   "outputs": [
    {
     "name": "stdout",
     "output_type": "stream",
     "text": [
      "On a scale from 1-5, how expensive should the food be.\n",
      "    \n",
      "1: Very cheap \n",
      "2: Cheap \n",
      "3: Okay \n",
      "4: Expensive 5:\n",
      "    Very Expensive\n",
      "1\n"
     ]
    }
   ],
   "source": [
    "rec_items = rec_chart_builder(df)"
   ]
  },
  {
   "cell_type": "code",
   "execution_count": 19,
   "metadata": {},
   "outputs": [
    {
     "data": {
      "text/html": [
       "<div>\n",
       "<style scoped>\n",
       "    .dataframe tbody tr th:only-of-type {\n",
       "        vertical-align: middle;\n",
       "    }\n",
       "\n",
       "    .dataframe tbody tr th {\n",
       "        vertical-align: top;\n",
       "    }\n",
       "\n",
       "    .dataframe thead th {\n",
       "        text-align: right;\n",
       "    }\n",
       "</style>\n",
       "<table border=\"1\" class=\"dataframe\">\n",
       "  <thead>\n",
       "    <tr style=\"text-align: right;\">\n",
       "      <th></th>\n",
       "      <th>cost</th>\n",
       "      <th>title</th>\n",
       "      <th>ratingValue</th>\n",
       "    </tr>\n",
       "  </thead>\n",
       "  <tbody>\n",
       "    <tr>\n",
       "      <th>0</th>\n",
       "      <td>1.0</td>\n",
       "      <td>Pancakes with dacere syrup</td>\n",
       "      <td>4.4</td>\n",
       "    </tr>\n",
       "    <tr>\n",
       "      <th>4</th>\n",
       "      <td>1.0</td>\n",
       "      <td>Pasta for pizza</td>\n",
       "      <td>4.2</td>\n",
       "    </tr>\n",
       "    <tr>\n",
       "      <th>13</th>\n",
       "      <td>1.0</td>\n",
       "      <td>BÃ©chamel</td>\n",
       "      <td>4.3</td>\n",
       "    </tr>\n",
       "    <tr>\n",
       "      <th>19</th>\n",
       "      <td>1.0</td>\n",
       "      <td>Coffee cream</td>\n",
       "      <td>4.3</td>\n",
       "    </tr>\n",
       "    <tr>\n",
       "      <th>33</th>\n",
       "      <td>1.0</td>\n",
       "      <td>Piadina Romagnola</td>\n",
       "      <td>4.3</td>\n",
       "    </tr>\n",
       "  </tbody>\n",
       "</table>\n",
       "</div>"
      ],
      "text/plain": [
       "    cost                       title  ratingValue\n",
       "0    1.0  Pancakes with dacere syrup          4.4\n",
       "4    1.0             Pasta for pizza          4.2\n",
       "13   1.0                   BÃ©chamel          4.3\n",
       "19   1.0                Coffee cream          4.3\n",
       "33   1.0           Piadina Romagnola          4.3"
      ]
     },
     "execution_count": 19,
     "metadata": {},
     "output_type": "execute_result"
    }
   ],
   "source": [
    "visualized = rec_items.loc[:, [\"cost\", \"title\", \"ratingValue\"]]\n",
    "visualized.head(5)"
   ]
  },
  {
   "cell_type": "markdown",
   "metadata": {},
   "source": [
    "# RecSys Chartbuilder (All planned features)"
   ]
  },
  {
   "cell_type": "code",
   "execution_count": 20,
   "metadata": {},
   "outputs": [],
   "source": [
    "def rec_sys_all(gen_df, percentile=0.8):\n",
    "    # TODO: Ask for a price range\n",
    "    price = int(input())\n",
    "    # TODO: Ask for preferred time spent\n",
    "    maxTimeSpent = int(input())\n",
    "    # TODO: preferred difficulty\n",
    "    maxPrefDiff = int(input())\n",
    "    \n",
    "    \n",
    "    recipes = gen_df.copy()\n",
    "    \n",
    "    recipes = recipes[(recipes['cost'] <= price) &\n",
    "                     (recipes['totalTime'] <= maxTimeSpent) &\n",
    "                     (recipes['difficulty'] <= maxPrefDiff)]\n",
    "    \n",
    "    c = recipes[\"cost\"].mean()\n",
    "    m = recipes['ratingValue'].quantile(percentile)\n",
    "    \n",
    "    q_recipes = recipes.copy().loc[recipes[\"ratingValue\"] <= m]\n",
    "    \n",
    "    q_recipes.head()\n",
    "    \n",
    "    q_recipes.sort_values('ratingValue', ascending=False)\n",
    "    \n",
    "    return q_recipes"
   ]
  },
  {
   "cell_type": "code",
   "execution_count": 21,
   "metadata": {},
   "outputs": [
    {
     "name": "stdout",
     "output_type": "stream",
     "text": [
      "2\n",
      "2\n",
      "2\n"
     ]
    },
    {
     "data": {
      "text/html": [
       "<div>\n",
       "<style scoped>\n",
       "    .dataframe tbody tr th:only-of-type {\n",
       "        vertical-align: middle;\n",
       "    }\n",
       "\n",
       "    .dataframe tbody tr th {\n",
       "        vertical-align: top;\n",
       "    }\n",
       "\n",
       "    .dataframe thead th {\n",
       "        text-align: right;\n",
       "    }\n",
       "</style>\n",
       "<table border=\"1\" class=\"dataframe\">\n",
       "  <thead>\n",
       "    <tr style=\"text-align: right;\">\n",
       "      <th></th>\n",
       "      <th>totalTime</th>\n",
       "      <th>cost</th>\n",
       "      <th>difficulty</th>\n",
       "      <th>ratingValue</th>\n",
       "      <th>title</th>\n",
       "    </tr>\n",
       "  </thead>\n",
       "  <tbody>\n",
       "    <tr>\n",
       "      <th>3858</th>\n",
       "      <td>0</td>\n",
       "      <td>2.0</td>\n",
       "      <td>1.0</td>\n",
       "      <td>3.0</td>\n",
       "      <td>Brinate rose petals</td>\n",
       "    </tr>\n",
       "  </tbody>\n",
       "</table>\n",
       "</div>"
      ],
      "text/plain": [
       "      totalTime  cost  difficulty  ratingValue                title\n",
       "3858          0   2.0         1.0          3.0  Brinate rose petals"
      ]
     },
     "execution_count": 21,
     "metadata": {},
     "output_type": "execute_result"
    }
   ],
   "source": [
    "rec_items_2 = rec_sys_all(df)\n",
    "rec_items_2 = rec_items_2.loc[:, [\"totalTime\", \"cost\", \"difficulty\", \"ratingValue\", \"title\"]]\n",
    "rec_items_2.head(5)"
   ]
  },
  {
   "cell_type": "code",
   "execution_count": 22,
   "metadata": {},
   "outputs": [
    {
     "data": {
      "text/html": [
       "<div>\n",
       "<style scoped>\n",
       "    .dataframe tbody tr th:only-of-type {\n",
       "        vertical-align: middle;\n",
       "    }\n",
       "\n",
       "    .dataframe tbody tr th {\n",
       "        vertical-align: top;\n",
       "    }\n",
       "\n",
       "    .dataframe thead th {\n",
       "        text-align: right;\n",
       "    }\n",
       "</style>\n",
       "<table border=\"1\" class=\"dataframe\">\n",
       "  <thead>\n",
       "    <tr style=\"text-align: right;\">\n",
       "      <th></th>\n",
       "      <th>totalTime</th>\n",
       "      <th>cost</th>\n",
       "      <th>difficulty</th>\n",
       "      <th>ratingValue</th>\n",
       "      <th>title</th>\n",
       "    </tr>\n",
       "  </thead>\n",
       "  <tbody>\n",
       "  </tbody>\n",
       "</table>\n",
       "</div>"
      ],
      "text/plain": [
       "Empty DataFrame\n",
       "Columns: [totalTime, cost, difficulty, ratingValue, title]\n",
       "Index: []"
      ]
     },
     "execution_count": 22,
     "metadata": {},
     "output_type": "execute_result"
    }
   ],
   "source": [
    "searchdf = rec_items_2.loc[rec_items_2['title'].str.contains(\"pasta\", case=False)]\n",
    "searchdf.head()"
   ]
  },
  {
   "cell_type": "markdown",
   "metadata": {},
   "source": [
    "# Meta Data Content Recommender"
   ]
  },
  {
   "cell_type": "code",
   "execution_count": 23,
   "metadata": {},
   "outputs": [],
   "source": [
    "from scipy import spatial\n",
    "\n",
    "dataSetI = [3, 45, 11, 14]\n",
    "dataSetII = [2, 54, 13, 15]\n",
    "result = 1 - spatial.distance.cosine(dataSetI, dataSetII)"
   ]
  },
  {
   "cell_type": "code",
   "execution_count": 24,
   "metadata": {},
   "outputs": [
    {
     "data": {
      "text/plain": [
       "0.9991850965784872"
      ]
     },
     "execution_count": 24,
     "metadata": {},
     "output_type": "execute_result"
    }
   ],
   "source": [
    "result"
   ]
  },
  {
   "cell_type": "code",
   "execution_count": 25,
   "metadata": {},
   "outputs": [
    {
     "data": {
      "text/plain": [
       "Index(['url', 'title', 'cost', 'category', 'imageURL', 'description',\n",
       "       'prepTime', 'cookTime', 'totalTime', 'yield', 'isVegetarian',\n",
       "       'isLactoseFree', 'isGlutenFree', 'isLight', 'isLowNickel', 'calories',\n",
       "       'carbohydrates', 'sugars', 'proteins', 'fat', 'saturatedFat', 'fibers',\n",
       "       'cholesterol', 'sodium', 'ingredients_measure', 'ingredients',\n",
       "       'instructions', 'ratingCount', 'ratingValue', 'difficulty'],\n",
       "      dtype='object')"
      ]
     },
     "execution_count": 25,
     "metadata": {},
     "output_type": "execute_result"
    }
   ],
   "source": [
    "df.columns"
   ]
  },
  {
   "cell_type": "code",
   "execution_count": 34,
   "metadata": {},
   "outputs": [],
   "source": [
    "cosine_features = df[[\"cost\", \"totalTime\", \"difficulty\", \"calories\", \"carbohydrates\", \n",
    "                             \"sugars\", \"proteins\", \"fat\", \"saturatedFat\", \"fibers\", \"cholesterol\", \n",
    "                            \"sodium\"]]"
   ]
  },
  {
   "cell_type": "code",
   "execution_count": 35,
   "metadata": {},
   "outputs": [
    {
     "data": {
      "text/html": [
       "<div>\n",
       "<style scoped>\n",
       "    .dataframe tbody tr th:only-of-type {\n",
       "        vertical-align: middle;\n",
       "    }\n",
       "\n",
       "    .dataframe tbody tr th {\n",
       "        vertical-align: top;\n",
       "    }\n",
       "\n",
       "    .dataframe thead th {\n",
       "        text-align: right;\n",
       "    }\n",
       "</style>\n",
       "<table border=\"1\" class=\"dataframe\">\n",
       "  <thead>\n",
       "    <tr style=\"text-align: right;\">\n",
       "      <th></th>\n",
       "      <th>cost</th>\n",
       "      <th>totalTime</th>\n",
       "      <th>difficulty</th>\n",
       "      <th>calories</th>\n",
       "      <th>carbohydrates</th>\n",
       "      <th>sugars</th>\n",
       "      <th>proteins</th>\n",
       "      <th>fat</th>\n",
       "      <th>saturatedFat</th>\n",
       "      <th>fibers</th>\n",
       "      <th>cholesterol</th>\n",
       "      <th>sodium</th>\n",
       "    </tr>\n",
       "  </thead>\n",
       "  <tbody>\n",
       "    <tr>\n",
       "      <th>0</th>\n",
       "      <td>1.0</td>\n",
       "      <td>35</td>\n",
       "      <td>1.0</td>\n",
       "      <td>263.0</td>\n",
       "      <td>35.1</td>\n",
       "      <td>8.4</td>\n",
       "      <td>8.9</td>\n",
       "      <td>9.6</td>\n",
       "      <td>5.06</td>\n",
       "      <td>0.9</td>\n",
       "      <td>117.0</td>\n",
       "      <td>63.0</td>\n",
       "    </tr>\n",
       "    <tr>\n",
       "      <th>1</th>\n",
       "      <td>3.0</td>\n",
       "      <td>40</td>\n",
       "      <td>2.0</td>\n",
       "      <td>544.0</td>\n",
       "      <td>42.2</td>\n",
       "      <td>30.5</td>\n",
       "      <td>13.1</td>\n",
       "      <td>35.8</td>\n",
       "      <td>19.49</td>\n",
       "      <td>1.4</td>\n",
       "      <td>259.0</td>\n",
       "      <td>151.0</td>\n",
       "    </tr>\n",
       "    <tr>\n",
       "      <th>2</th>\n",
       "      <td>2.0</td>\n",
       "      <td>25</td>\n",
       "      <td>2.0</td>\n",
       "      <td>196.0</td>\n",
       "      <td>27.3</td>\n",
       "      <td>3.5</td>\n",
       "      <td>7.8</td>\n",
       "      <td>6.2</td>\n",
       "      <td>3.19</td>\n",
       "      <td>0.8</td>\n",
       "      <td>83.0</td>\n",
       "      <td>56.0</td>\n",
       "    </tr>\n",
       "    <tr>\n",
       "      <th>3</th>\n",
       "      <td>2.0</td>\n",
       "      <td>25</td>\n",
       "      <td>2.0</td>\n",
       "      <td>680.0</td>\n",
       "      <td>66.9</td>\n",
       "      <td>2.9</td>\n",
       "      <td>19.3</td>\n",
       "      <td>37.2</td>\n",
       "      <td>13.57</td>\n",
       "      <td>2.2</td>\n",
       "      <td>383.0</td>\n",
       "      <td>586.0</td>\n",
       "    </tr>\n",
       "    <tr>\n",
       "      <th>4</th>\n",
       "      <td>1.0</td>\n",
       "      <td>20</td>\n",
       "      <td>2.0</td>\n",
       "      <td>1031.0</td>\n",
       "      <td>184.4</td>\n",
       "      <td>4.1</td>\n",
       "      <td>29.5</td>\n",
       "      <td>19.5</td>\n",
       "      <td>2.95</td>\n",
       "      <td>6.3</td>\n",
       "      <td>0.0</td>\n",
       "      <td>1966.0</td>\n",
       "    </tr>\n",
       "    <tr>\n",
       "      <th>...</th>\n",
       "      <td>...</td>\n",
       "      <td>...</td>\n",
       "      <td>...</td>\n",
       "      <td>...</td>\n",
       "      <td>...</td>\n",
       "      <td>...</td>\n",
       "      <td>...</td>\n",
       "      <td>...</td>\n",
       "      <td>...</td>\n",
       "      <td>...</td>\n",
       "      <td>...</td>\n",
       "      <td>...</td>\n",
       "    </tr>\n",
       "    <tr>\n",
       "      <th>4631</th>\n",
       "      <td>2.0</td>\n",
       "      <td>70</td>\n",
       "      <td>2.0</td>\n",
       "      <td>122.0</td>\n",
       "      <td>6.6</td>\n",
       "      <td>0.4</td>\n",
       "      <td>2.7</td>\n",
       "      <td>9.4</td>\n",
       "      <td>2.90</td>\n",
       "      <td>1.1</td>\n",
       "      <td>11.0</td>\n",
       "      <td>178.0</td>\n",
       "    </tr>\n",
       "    <tr>\n",
       "      <th>4633</th>\n",
       "      <td>2.0</td>\n",
       "      <td>15</td>\n",
       "      <td>1.0</td>\n",
       "      <td>66.0</td>\n",
       "      <td>7.9</td>\n",
       "      <td>1.0</td>\n",
       "      <td>1.3</td>\n",
       "      <td>3.2</td>\n",
       "      <td>0.54</td>\n",
       "      <td>0.8</td>\n",
       "      <td>0.0</td>\n",
       "      <td>165.0</td>\n",
       "    </tr>\n",
       "    <tr>\n",
       "      <th>4635</th>\n",
       "      <td>1.0</td>\n",
       "      <td>120</td>\n",
       "      <td>3.0</td>\n",
       "      <td>207.0</td>\n",
       "      <td>40.2</td>\n",
       "      <td>2.9</td>\n",
       "      <td>7.0</td>\n",
       "      <td>0.9</td>\n",
       "      <td>0.19</td>\n",
       "      <td>3.8</td>\n",
       "      <td>0.0</td>\n",
       "      <td>446.0</td>\n",
       "    </tr>\n",
       "    <tr>\n",
       "      <th>4636</th>\n",
       "      <td>2.0</td>\n",
       "      <td>40</td>\n",
       "      <td>1.0</td>\n",
       "      <td>83.0</td>\n",
       "      <td>10.2</td>\n",
       "      <td>1.6</td>\n",
       "      <td>2.7</td>\n",
       "      <td>3.5</td>\n",
       "      <td>1.11</td>\n",
       "      <td>0.6</td>\n",
       "      <td>5.0</td>\n",
       "      <td>245.0</td>\n",
       "    </tr>\n",
       "    <tr>\n",
       "      <th>4637</th>\n",
       "      <td>2.0</td>\n",
       "      <td>15</td>\n",
       "      <td>2.0</td>\n",
       "      <td>0.0</td>\n",
       "      <td>0.0</td>\n",
       "      <td>0.0</td>\n",
       "      <td>0.0</td>\n",
       "      <td>0.0</td>\n",
       "      <td>0.00</td>\n",
       "      <td>0.0</td>\n",
       "      <td>0.0</td>\n",
       "      <td>0.0</td>\n",
       "    </tr>\n",
       "  </tbody>\n",
       "</table>\n",
       "<p>4227 rows × 12 columns</p>\n",
       "</div>"
      ],
      "text/plain": [
       "      cost  totalTime  difficulty  calories  carbohydrates  sugars  proteins  \\\n",
       "0      1.0         35         1.0     263.0           35.1     8.4       8.9   \n",
       "1      3.0         40         2.0     544.0           42.2    30.5      13.1   \n",
       "2      2.0         25         2.0     196.0           27.3     3.5       7.8   \n",
       "3      2.0         25         2.0     680.0           66.9     2.9      19.3   \n",
       "4      1.0         20         2.0    1031.0          184.4     4.1      29.5   \n",
       "...    ...        ...         ...       ...            ...     ...       ...   \n",
       "4631   2.0         70         2.0     122.0            6.6     0.4       2.7   \n",
       "4633   2.0         15         1.0      66.0            7.9     1.0       1.3   \n",
       "4635   1.0        120         3.0     207.0           40.2     2.9       7.0   \n",
       "4636   2.0         40         1.0      83.0           10.2     1.6       2.7   \n",
       "4637   2.0         15         2.0       0.0            0.0     0.0       0.0   \n",
       "\n",
       "       fat  saturatedFat  fibers  cholesterol  sodium  \n",
       "0      9.6          5.06     0.9        117.0    63.0  \n",
       "1     35.8         19.49     1.4        259.0   151.0  \n",
       "2      6.2          3.19     0.8         83.0    56.0  \n",
       "3     37.2         13.57     2.2        383.0   586.0  \n",
       "4     19.5          2.95     6.3          0.0  1966.0  \n",
       "...    ...           ...     ...          ...     ...  \n",
       "4631   9.4          2.90     1.1         11.0   178.0  \n",
       "4633   3.2          0.54     0.8          0.0   165.0  \n",
       "4635   0.9          0.19     3.8          0.0   446.0  \n",
       "4636   3.5          1.11     0.6          5.0   245.0  \n",
       "4637   0.0          0.00     0.0          0.0     0.0  \n",
       "\n",
       "[4227 rows x 12 columns]"
      ]
     },
     "execution_count": 35,
     "metadata": {},
     "output_type": "execute_result"
    }
   ],
   "source": [
    "cosine_features"
   ]
  },
  {
   "cell_type": "code",
   "execution_count": 28,
   "metadata": {},
   "outputs": [
    {
     "data": {
      "text/plain": [
       "(4227, 30)"
      ]
     },
     "execution_count": 28,
     "metadata": {},
     "output_type": "execute_result"
    }
   ],
   "source": [
    "df.shape"
   ]
  },
  {
   "cell_type": "code",
   "execution_count": 29,
   "metadata": {},
   "outputs": [
    {
     "ename": "SyntaxError",
     "evalue": "invalid syntax (<ipython-input-29-998722122136>, line 2)",
     "output_type": "error",
     "traceback": [
      "\u001b[1;36m  File \u001b[1;32m\"<ipython-input-29-998722122136>\"\u001b[1;36m, line \u001b[1;32m2\u001b[0m\n\u001b[1;33m    return ' '.join(x[\"cost\"]) + ' ' + ' '.join(x[\"totalTime\"]) + ' ' + ' '.join(x[\"difficulty\"]) + ' ' + ' '.join(x[\"calories\"]) + ' ' + ' '.join(x[\"carbohydrates\"]) + ' ' + ' '.join(x[\"sugars\"]) + ' ' +\u001b[0m\n\u001b[1;37m                                                                                                                                                                                                            ^\u001b[0m\n\u001b[1;31mSyntaxError\u001b[0m\u001b[1;31m:\u001b[0m invalid syntax\n"
     ]
    }
   ],
   "source": [
    "def create_soup(x):\n",
    "    return ' '.join(x[\"cost\"]) + ' ' + ' '.join(x[\"totalTime\"]) + ' ' + ' '.join(x[\"difficulty\"]) + ' ' + ' '.join(x[\"calories\"]) + ' ' + ' '.join(x[\"carbohydrates\"]) + ' ' + ' '.join(x[\"sugars\"]) + ' ' +"
   ]
  },
  {
   "cell_type": "code",
   "execution_count": null,
   "metadata": {},
   "outputs": [],
   "source": [
    "dish_one = cosine_features.iloc[4001]\n",
    "dish_two = cosine_features.iloc[4002]\n",
    "dish_three = cosine_features.iloc[4000]"
   ]
  },
  {
   "cell_type": "code",
   "execution_count": null,
   "metadata": {},
   "outputs": [],
   "source": [
    "\n",
    "for index, row in cosine_features.iterrows():\n",
    "\n",
    "    df.loc[index, 'cos_one'] = spatial.distance.cosine(dish_one, row)\n",
    "    df.loc[index, 'cos_two'] = spatial.distance.cosine(dish_two, row)\n",
    "    df.loc[index, 'cos_three'] = spatial.distance.cosine(dish_three, row)\n"
   ]
  },
  {
   "cell_type": "code",
   "execution_count": null,
   "metadata": {},
   "outputs": [],
   "source": [
    "df.loc[:, [\"cos_one\", \"cos_two\", \"cos_three\"]]"
   ]
  },
  {
   "cell_type": "code",
   "execution_count": null,
   "metadata": {},
   "outputs": [],
   "source": [
    "pd.set_option(\"display.precision\", 16)"
   ]
  },
  {
   "cell_type": "code",
   "execution_count": null,
   "metadata": {},
   "outputs": [],
   "source": [
    "df.columns"
   ]
  },
  {
   "cell_type": "code",
   "execution_count": null,
   "metadata": {},
   "outputs": [],
   "source": [
    "for index, row in df.iterrows():\n",
    "    cos_summed = (row[\"cos_one\"] + row[\"cos_two\"] + row[\"cos_three\"])\n",
    "    total_cos = cos_summed / 3\n",
    "    df.loc[index, 'score'] = total_cos"
   ]
  },
  {
   "cell_type": "code",
   "execution_count": null,
   "metadata": {},
   "outputs": [],
   "source": [
    "df.score"
   ]
  },
  {
   "cell_type": "code",
   "execution_count": null,
   "metadata": {},
   "outputs": [],
   "source": [
    "rec_meta = df.copy()"
   ]
  },
  {
   "cell_type": "code",
   "execution_count": null,
   "metadata": {},
   "outputs": [],
   "source": [
    "rec_meta[[\"title\", \"score\", \"difficulty\", \"totalTime\"]].sort_values('score', ascending=False).head(15)"
   ]
  },
  {
   "cell_type": "code",
   "execution_count": null,
   "metadata": {},
   "outputs": [],
   "source": []
  }
 ],
 "metadata": {
  "kernelspec": {
   "display_name": "Python 3",
   "language": "python",
   "name": "python3"
  },
  "language_info": {
   "codemirror_mode": {
    "name": "ipython",
    "version": 3
   },
   "file_extension": ".py",
   "mimetype": "text/x-python",
   "name": "python",
   "nbconvert_exporter": "python",
   "pygments_lexer": "ipython3",
   "version": "3.8.5"
  }
 },
 "nbformat": 4,
 "nbformat_minor": 4
}
