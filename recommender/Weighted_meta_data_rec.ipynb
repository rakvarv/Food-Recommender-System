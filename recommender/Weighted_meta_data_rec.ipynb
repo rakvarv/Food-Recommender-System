{
 "cells": [
  {
   "cell_type": "code",
   "execution_count": 1,
   "metadata": {},
   "outputs": [],
   "source": [
    "import pandas as pd\n",
    "import seaborn as sns\n",
    "import matplotlib.pyplot as plt\n",
    "from scipy import spatial\n"
   ]
  },
  {
   "cell_type": "code",
   "execution_count": 2,
   "metadata": {},
   "outputs": [],
   "source": [
    "df = pd.read_excel(r'giallozaferano_dataset.xlsx')"
   ]
  },
  {
   "cell_type": "code",
   "execution_count": 3,
   "metadata": {},
   "outputs": [],
   "source": [
    "cost_cat_dic = {\n",
    "    'Molto basso': '1',\n",
    "    'Basso': '2',\n",
    "    'Medio': '3',\n",
    "    'Elevato': '4',\n",
    "    'Molto elevata': '5'\n",
    "}\n",
    "\n",
    "diff_cat_dic = {\n",
    "    'Molto facile': '1',\n",
    "    'Facile': '2',\n",
    "    'Media' : '3',\n",
    "    'Difficile': '4',\n",
    "    'Molto difficile': '5'\n",
    "}\n",
    "\n",
    "df.replace({\"cost\": cost_cat_dic}, inplace=True)\n",
    "df.replace({\"difficulty\": diff_cat_dic}, inplace=True)"
   ]
  },
  {
   "cell_type": "code",
   "execution_count": 4,
   "metadata": {},
   "outputs": [],
   "source": [
    "# Remove non-numeric values and convert totalTime to integer datatype. \n",
    "df[\"totalTime\"] = df[\"totalTime\"].str.extract('(\\d+)', expand=False)\n",
    "df[\"totalTime\"] = pd.to_numeric(df[\"totalTime\"], errors=\"coerce\")\n",
    "df[\"ratingCount\"] = pd.to_numeric(df[\"ratingCount\"], errors=\"coerce\")\n",
    "\n",
    "# Remove non-numeric values and convert prepTime & cookTime to integer datatype. \n",
    "df[\"cookTime\"] = df[\"cookTime\"].str.extract('(\\d+)', expand=False)\n",
    "df[\"prepTime\"] = df[\"prepTime\"].str.extract('(\\d+)', expand=False)\n",
    "df[\"cookTime\"] = pd.to_numeric(df[\"cookTime\"], errors=\"coerce\")\n",
    "df[\"prepTime\"] = pd.to_numeric(df[\"prepTime\"], errors=\"coerce\")\n",
    "\n",
    "# Converting cost text categories in to numbers and performing numeric conversion on column\n",
    "df[\"cost\"] = pd.to_numeric(df[\"cost\"], errors=\"coerce\")\n",
    "df[\"difficulty\"] = pd.to_numeric(df[\"difficulty\"], errors=\"coerce\")"
   ]
  },
  {
   "cell_type": "code",
   "execution_count": 5,
   "metadata": {},
   "outputs": [],
   "source": [
    "del df[\"bestRating\"] # Servers us no real as it only takes one rating to make a max"
   ]
  },
  {
   "cell_type": "code",
   "execution_count": 6,
   "metadata": {},
   "outputs": [],
   "source": [
    "# Dropping all rows with NaN values from cost column is NaN values or inaccurate values\n",
    "# devalues the whole point of the recommendation, \n",
    "df = df.dropna(subset=[\"cost\"])\n",
    "\n",
    "# Replacing all missing values with 0 and use the value 0\n",
    "# as a mark to state that the amount of that certain feature is unknown\n",
    "df[\"cholesterol\"].fillna(0, inplace=True)\n",
    "df[\"fibers\"].fillna(0, inplace=True)\n",
    "df[\"fat\"].fillna(0, inplace=True)\n",
    "df[\"saturatedFat\"].fillna(0, inplace=True)\n",
    "df[\"sodium\"].fillna(0, inplace=True)\n",
    "df[\"saturatedFat\"].fillna(0, inplace=True)\n",
    "df[\"proteins\"].fillna(0, inplace=True)\n",
    "df[\"sugars\"].fillna(0, inplace=True)\n",
    "df[\"carbohydrates\"].fillna(0, inplace=True)\n",
    "df[\"calories\"].fillna(0, inplace=True)"
   ]
  },
  {
   "cell_type": "code",
   "execution_count": 7,
   "metadata": {},
   "outputs": [],
   "source": [
    "from scipy import spatial"
   ]
  },
  {
   "cell_type": "code",
   "execution_count": 9,
   "metadata": {},
   "outputs": [],
   "source": [
    "unimp_features = df.loc[:, [\"calories\", \"carbohydrates\", \"sugars\", \"proteins\", \"fat\",\n",
    "                           \"saturatedFat\", \"fibers\", \"cholesterol\", \"sodium\"]]"
   ]
  },
  {
   "cell_type": "code",
   "execution_count": 11,
   "metadata": {},
   "outputs": [],
   "source": [
    "dish_one = unimp_features.iloc[235]\n",
    "dish_two = unimp_features.iloc[621]\n",
    "dish_three = unimp_features.iloc[831]"
   ]
  },
  {
   "cell_type": "code",
   "execution_count": 12,
   "metadata": {},
   "outputs": [],
   "source": [
    "df_important = df.copy()\n",
    "df_unimportant = df.copy()"
   ]
  },
  {
   "cell_type": "code",
   "execution_count": 13,
   "metadata": {},
   "outputs": [
    {
     "name": "stderr",
     "output_type": "stream",
     "text": [
      "C:\\Users\\rakva\\anaconda3\\lib\\site-packages\\scipy\\spatial\\distance.py:714: RuntimeWarning: invalid value encountered in double_scalars\n",
      "  dist = 1.0 - uv / np.sqrt(uu * vv)\n"
     ]
    }
   ],
   "source": [
    "for index, row in unimp_features.iterrows():\n",
    "    df_unimportant.loc[index, 'cos_one'] = 1 - spatial.distance.cosine(dish_one, row)\n",
    "    df_unimportant.loc[index, 'cos_two'] = 1 - spatial.distance.cosine(dish_two, row)\n",
    "    df_unimportant.loc[index, 'cos_three'] = 1 - spatial.distance.cosine(dish_three, row)"
   ]
  },
  {
   "cell_type": "code",
   "execution_count": 22,
   "metadata": {},
   "outputs": [],
   "source": [
    "for index, row in df_unimportant.iterrows():\n",
    "    cos_summed = (row[\"cos_one\"] + row[\"cos_two\"] + row[\"cos_three\"])\n",
    "    total_cos = cos_summed / 3\n",
    "    df.loc[index, 'notimportscore'] = total_cos"
   ]
  },
  {
   "cell_type": "code",
   "execution_count": 16,
   "metadata": {},
   "outputs": [
    {
     "data": {
      "text/html": [
       "<div>\n",
       "<style scoped>\n",
       "    .dataframe tbody tr th:only-of-type {\n",
       "        vertical-align: middle;\n",
       "    }\n",
       "\n",
       "    .dataframe tbody tr th {\n",
       "        vertical-align: top;\n",
       "    }\n",
       "\n",
       "    .dataframe thead th {\n",
       "        text-align: right;\n",
       "    }\n",
       "</style>\n",
       "<table border=\"1\" class=\"dataframe\">\n",
       "  <thead>\n",
       "    <tr style=\"text-align: right;\">\n",
       "      <th></th>\n",
       "      <th>title</th>\n",
       "      <th>score</th>\n",
       "    </tr>\n",
       "  </thead>\n",
       "  <tbody>\n",
       "    <tr>\n",
       "      <th>2382</th>\n",
       "      <td>Yogurt panna cotta with peach jelly</td>\n",
       "      <td>0.980442</td>\n",
       "    </tr>\n",
       "    <tr>\n",
       "      <th>1886</th>\n",
       "      <td>Ice cream without berries ice cream</td>\n",
       "      <td>0.980430</td>\n",
       "    </tr>\n",
       "    <tr>\n",
       "      <th>1165</th>\n",
       "      <td>Yogurt ice cream</td>\n",
       "      <td>0.980379</td>\n",
       "    </tr>\n",
       "    <tr>\n",
       "      <th>3462</th>\n",
       "      <td>Pavlova at coffee</td>\n",
       "      <td>0.979870</td>\n",
       "    </tr>\n",
       "    <tr>\n",
       "      <th>804</th>\n",
       "      <td>Cream ice cream</td>\n",
       "      <td>0.979860</td>\n",
       "    </tr>\n",
       "    <tr>\n",
       "      <th>...</th>\n",
       "      <td>...</td>\n",
       "      <td>...</td>\n",
       "    </tr>\n",
       "    <tr>\n",
       "      <th>4623</th>\n",
       "      <td>Olive leaves with omelette cubes</td>\n",
       "      <td>NaN</td>\n",
       "    </tr>\n",
       "    <tr>\n",
       "      <th>4626</th>\n",
       "      <td>Crush with vegetable turret and fondue</td>\n",
       "      <td>NaN</td>\n",
       "    </tr>\n",
       "    <tr>\n",
       "      <th>4627</th>\n",
       "      <td>Legume flour beans with chestnuts and speck</td>\n",
       "      <td>NaN</td>\n",
       "    </tr>\n",
       "    <tr>\n",
       "      <th>4630</th>\n",
       "      <td>Panettoncini with candied tangerine and rosemary</td>\n",
       "      <td>NaN</td>\n",
       "    </tr>\n",
       "    <tr>\n",
       "      <th>4637</th>\n",
       "      <td>Fiordilatte ice cream</td>\n",
       "      <td>NaN</td>\n",
       "    </tr>\n",
       "  </tbody>\n",
       "</table>\n",
       "<p>4227 rows × 2 columns</p>\n",
       "</div>"
      ],
      "text/plain": [
       "                                                 title     score\n",
       "2382               Yogurt panna cotta with peach jelly  0.980442\n",
       "1886               Ice cream without berries ice cream  0.980430\n",
       "1165                                  Yogurt ice cream  0.980379\n",
       "3462                                 Pavlova at coffee  0.979870\n",
       "804                                    Cream ice cream  0.979860\n",
       "...                                                ...       ...\n",
       "4623                  Olive leaves with omelette cubes       NaN\n",
       "4626           Crush with vegetable turret and fondue        NaN\n",
       "4627       Legume flour beans with chestnuts and speck       NaN\n",
       "4630  Panettoncini with candied tangerine and rosemary       NaN\n",
       "4637                             Fiordilatte ice cream       NaN\n",
       "\n",
       "[4227 rows x 2 columns]"
      ]
     },
     "execution_count": 16,
     "metadata": {},
     "output_type": "execute_result"
    }
   ],
   "source": [
    "df_unimportant[[\"title\", \"score\"]].sort_values('score', ascending=False)"
   ]
  },
  {
   "cell_type": "code",
   "execution_count": 17,
   "metadata": {},
   "outputs": [],
   "source": [
    "imp_features = df.loc[:, [\"cost\", \"totalTime\", \"difficulty\"]]"
   ]
  },
  {
   "cell_type": "code",
   "execution_count": 18,
   "metadata": {},
   "outputs": [],
   "source": [
    "dish_one = imp_features.iloc[235]\n",
    "dish_two = imp_features.iloc[621]\n",
    "dish_three = imp_features.iloc[831]"
   ]
  },
  {
   "cell_type": "code",
   "execution_count": 19,
   "metadata": {},
   "outputs": [],
   "source": [
    "for index, row in imp_features.iterrows():\n",
    "    df_important.loc[index, 'cos_one'] = 1 - spatial.distance.cosine(dish_one, row)\n",
    "    df_important.loc[index, 'cos_two'] = 1 - spatial.distance.cosine(dish_two, row)\n",
    "    df_important.loc[index, 'cos_three'] = 1 - spatial.distance.cosine(dish_three, row)"
   ]
  },
  {
   "cell_type": "code",
   "execution_count": 23,
   "metadata": {},
   "outputs": [],
   "source": [
    "for index, row in df_important.iterrows():\n",
    "    cos_summed = (row[\"cos_one\"] + row[\"cos_two\"] + row[\"cos_three\"])\n",
    "    total_cos = cos_summed / 3\n",
    "    df.loc[index, 'importscore'] = total_cos"
   ]
  },
  {
   "cell_type": "code",
   "execution_count": 21,
   "metadata": {},
   "outputs": [
    {
     "data": {
      "text/html": [
       "<div>\n",
       "<style scoped>\n",
       "    .dataframe tbody tr th:only-of-type {\n",
       "        vertical-align: middle;\n",
       "    }\n",
       "\n",
       "    .dataframe tbody tr th {\n",
       "        vertical-align: top;\n",
       "    }\n",
       "\n",
       "    .dataframe thead th {\n",
       "        text-align: right;\n",
       "    }\n",
       "</style>\n",
       "<table border=\"1\" class=\"dataframe\">\n",
       "  <thead>\n",
       "    <tr style=\"text-align: right;\">\n",
       "      <th></th>\n",
       "      <th>title</th>\n",
       "      <th>score</th>\n",
       "    </tr>\n",
       "  </thead>\n",
       "  <tbody>\n",
       "    <tr>\n",
       "      <th>1723</th>\n",
       "      <td>Spice bread house</td>\n",
       "      <td>0.999851</td>\n",
       "    </tr>\n",
       "    <tr>\n",
       "      <th>3384</th>\n",
       "      <td>Vegan tartellettes</td>\n",
       "      <td>0.999846</td>\n",
       "    </tr>\n",
       "    <tr>\n",
       "      <th>929</th>\n",
       "      <td>Rolled focaccia</td>\n",
       "      <td>0.999846</td>\n",
       "    </tr>\n",
       "    <tr>\n",
       "      <th>2740</th>\n",
       "      <td>Black Forest Cheesecake</td>\n",
       "      <td>0.999846</td>\n",
       "    </tr>\n",
       "    <tr>\n",
       "      <th>3689</th>\n",
       "      <td>Red muffins</td>\n",
       "      <td>0.999846</td>\n",
       "    </tr>\n",
       "    <tr>\n",
       "      <th>...</th>\n",
       "      <td>...</td>\n",
       "      <td>...</td>\n",
       "    </tr>\n",
       "    <tr>\n",
       "      <th>3131</th>\n",
       "      <td>Roast beef with zucchini potato tin and cherry...</td>\n",
       "      <td>0.084775</td>\n",
       "    </tr>\n",
       "    <tr>\n",
       "      <th>2897</th>\n",
       "      <td>Braised mushrooms and red wine</td>\n",
       "      <td>0.084775</td>\n",
       "    </tr>\n",
       "    <tr>\n",
       "      <th>1031</th>\n",
       "      <td>Liquid mother yeast</td>\n",
       "      <td>0.079977</td>\n",
       "    </tr>\n",
       "    <tr>\n",
       "      <th>3858</th>\n",
       "      <td>Brinate rose petals</td>\n",
       "      <td>0.078774</td>\n",
       "    </tr>\n",
       "    <tr>\n",
       "      <th>394</th>\n",
       "      <td>Mother yeast</td>\n",
       "      <td>0.075380</td>\n",
       "    </tr>\n",
       "  </tbody>\n",
       "</table>\n",
       "<p>4227 rows × 2 columns</p>\n",
       "</div>"
      ],
      "text/plain": [
       "                                                  title     score\n",
       "1723                                  Spice bread house  0.999851\n",
       "3384                                 Vegan tartellettes  0.999846\n",
       "929                                     Rolled focaccia  0.999846\n",
       "2740                            Black Forest Cheesecake  0.999846\n",
       "3689                                        Red muffins  0.999846\n",
       "...                                                 ...       ...\n",
       "3131  Roast beef with zucchini potato tin and cherry...  0.084775\n",
       "2897                     Braised mushrooms and red wine  0.084775\n",
       "1031                                Liquid mother yeast  0.079977\n",
       "3858                                Brinate rose petals  0.078774\n",
       "394                                        Mother yeast  0.075380\n",
       "\n",
       "[4227 rows x 2 columns]"
      ]
     },
     "execution_count": 21,
     "metadata": {},
     "output_type": "execute_result"
    }
   ],
   "source": [
    "df_important[[\"title\", \"score\"]].sort_values('score', ascending=False)"
   ]
  },
  {
   "cell_type": "code",
   "execution_count": 24,
   "metadata": {},
   "outputs": [
    {
     "data": {
      "text/html": [
       "<div>\n",
       "<style scoped>\n",
       "    .dataframe tbody tr th:only-of-type {\n",
       "        vertical-align: middle;\n",
       "    }\n",
       "\n",
       "    .dataframe tbody tr th {\n",
       "        vertical-align: top;\n",
       "    }\n",
       "\n",
       "    .dataframe thead th {\n",
       "        text-align: right;\n",
       "    }\n",
       "</style>\n",
       "<table border=\"1\" class=\"dataframe\">\n",
       "  <thead>\n",
       "    <tr style=\"text-align: right;\">\n",
       "      <th></th>\n",
       "      <th>importscore</th>\n",
       "      <th>notimportscore</th>\n",
       "    </tr>\n",
       "  </thead>\n",
       "  <tbody>\n",
       "    <tr>\n",
       "      <th>0</th>\n",
       "      <td>0.998856</td>\n",
       "      <td>0.938100</td>\n",
       "    </tr>\n",
       "    <tr>\n",
       "      <th>1</th>\n",
       "      <td>0.999594</td>\n",
       "      <td>0.931541</td>\n",
       "    </tr>\n",
       "    <tr>\n",
       "      <th>2</th>\n",
       "      <td>0.999461</td>\n",
       "      <td>0.942993</td>\n",
       "    </tr>\n",
       "    <tr>\n",
       "      <th>3</th>\n",
       "      <td>0.999461</td>\n",
       "      <td>0.850722</td>\n",
       "    </tr>\n",
       "    <tr>\n",
       "      <th>4</th>\n",
       "      <td>0.999196</td>\n",
       "      <td>0.662935</td>\n",
       "    </tr>\n",
       "    <tr>\n",
       "      <th>...</th>\n",
       "      <td>...</td>\n",
       "      <td>...</td>\n",
       "    </tr>\n",
       "    <tr>\n",
       "      <th>4631</th>\n",
       "      <td>0.998856</td>\n",
       "      <td>0.741445</td>\n",
       "    </tr>\n",
       "    <tr>\n",
       "      <th>4633</th>\n",
       "      <td>0.996972</td>\n",
       "      <td>0.585174</td>\n",
       "    </tr>\n",
       "    <tr>\n",
       "      <th>4635</th>\n",
       "      <td>0.997959</td>\n",
       "      <td>0.628487</td>\n",
       "    </tr>\n",
       "    <tr>\n",
       "      <th>4636</th>\n",
       "      <td>0.999089</td>\n",
       "      <td>0.544935</td>\n",
       "    </tr>\n",
       "    <tr>\n",
       "      <th>4637</th>\n",
       "      <td>0.994702</td>\n",
       "      <td>NaN</td>\n",
       "    </tr>\n",
       "  </tbody>\n",
       "</table>\n",
       "<p>4227 rows × 2 columns</p>\n",
       "</div>"
      ],
      "text/plain": [
       "      importscore  notimportscore\n",
       "0        0.998856        0.938100\n",
       "1        0.999594        0.931541\n",
       "2        0.999461        0.942993\n",
       "3        0.999461        0.850722\n",
       "4        0.999196        0.662935\n",
       "...           ...             ...\n",
       "4631     0.998856        0.741445\n",
       "4633     0.996972        0.585174\n",
       "4635     0.997959        0.628487\n",
       "4636     0.999089        0.544935\n",
       "4637     0.994702             NaN\n",
       "\n",
       "[4227 rows x 2 columns]"
      ]
     },
     "execution_count": 24,
     "metadata": {},
     "output_type": "execute_result"
    }
   ],
   "source": [
    "df[[\"importscore\", \"notimportscore\"]]"
   ]
  },
  {
   "cell_type": "code",
   "execution_count": 25,
   "metadata": {},
   "outputs": [],
   "source": [
    "for index, row in df.iterrows():\n",
    "    df.loc[index, 'totalscore'] = (row[\"importscore\"] + row[\"importscore\"] + row[\"notimportscore\"]) / 3"
   ]
  },
  {
   "cell_type": "code",
   "execution_count": 26,
   "metadata": {},
   "outputs": [
    {
     "data": {
      "text/html": [
       "<div>\n",
       "<style scoped>\n",
       "    .dataframe tbody tr th:only-of-type {\n",
       "        vertical-align: middle;\n",
       "    }\n",
       "\n",
       "    .dataframe tbody tr th {\n",
       "        vertical-align: top;\n",
       "    }\n",
       "\n",
       "    .dataframe thead th {\n",
       "        text-align: right;\n",
       "    }\n",
       "</style>\n",
       "<table border=\"1\" class=\"dataframe\">\n",
       "  <thead>\n",
       "    <tr style=\"text-align: right;\">\n",
       "      <th></th>\n",
       "      <th>title</th>\n",
       "      <th>cost</th>\n",
       "      <th>difficulty</th>\n",
       "      <th>importscore</th>\n",
       "      <th>notimportscore</th>\n",
       "      <th>totalscore</th>\n",
       "    </tr>\n",
       "  </thead>\n",
       "  <tbody>\n",
       "    <tr>\n",
       "      <th>1886</th>\n",
       "      <td>Ice cream without berries ice cream</td>\n",
       "      <td>2.0</td>\n",
       "      <td>3.0</td>\n",
       "      <td>0.999778</td>\n",
       "      <td>0.980430</td>\n",
       "      <td>0.993328</td>\n",
       "    </tr>\n",
       "    <tr>\n",
       "      <th>1165</th>\n",
       "      <td>Yogurt ice cream</td>\n",
       "      <td>2.0</td>\n",
       "      <td>2.0</td>\n",
       "      <td>0.999443</td>\n",
       "      <td>0.980379</td>\n",
       "      <td>0.993089</td>\n",
       "    </tr>\n",
       "    <tr>\n",
       "      <th>565</th>\n",
       "      <td>Milk cream</td>\n",
       "      <td>2.0</td>\n",
       "      <td>2.0</td>\n",
       "      <td>0.999805</td>\n",
       "      <td>0.979652</td>\n",
       "      <td>0.993087</td>\n",
       "    </tr>\n",
       "    <tr>\n",
       "      <th>944</th>\n",
       "      <td>Cookies</td>\n",
       "      <td>3.0</td>\n",
       "      <td>3.0</td>\n",
       "      <td>0.999805</td>\n",
       "      <td>0.979292</td>\n",
       "      <td>0.992967</td>\n",
       "    </tr>\n",
       "    <tr>\n",
       "      <th>2390</th>\n",
       "      <td>Pan of the Dead</td>\n",
       "      <td>3.0</td>\n",
       "      <td>2.0</td>\n",
       "      <td>0.999377</td>\n",
       "      <td>0.979792</td>\n",
       "      <td>0.992848</td>\n",
       "    </tr>\n",
       "    <tr>\n",
       "      <th>1411</th>\n",
       "      <td>Coffee chocolate salami</td>\n",
       "      <td>2.0</td>\n",
       "      <td>2.0</td>\n",
       "      <td>0.999461</td>\n",
       "      <td>0.979423</td>\n",
       "      <td>0.992782</td>\n",
       "    </tr>\n",
       "    <tr>\n",
       "      <th>2382</th>\n",
       "      <td>Yogurt panna cotta with peach jelly</td>\n",
       "      <td>3.0</td>\n",
       "      <td>2.0</td>\n",
       "      <td>0.998925</td>\n",
       "      <td>0.980442</td>\n",
       "      <td>0.992764</td>\n",
       "    </tr>\n",
       "    <tr>\n",
       "      <th>3906</th>\n",
       "      <td>Coffee with salentina</td>\n",
       "      <td>2.0</td>\n",
       "      <td>2.0</td>\n",
       "      <td>0.999825</td>\n",
       "      <td>0.978548</td>\n",
       "      <td>0.992733</td>\n",
       "    </tr>\n",
       "    <tr>\n",
       "      <th>3322</th>\n",
       "      <td>Christmas brownies</td>\n",
       "      <td>2.0</td>\n",
       "      <td>2.0</td>\n",
       "      <td>0.999443</td>\n",
       "      <td>0.979299</td>\n",
       "      <td>0.992729</td>\n",
       "    </tr>\n",
       "    <tr>\n",
       "      <th>623</th>\n",
       "      <td>Yogurt cake with strawberry jelly and berries</td>\n",
       "      <td>3.0</td>\n",
       "      <td>3.0</td>\n",
       "      <td>0.999846</td>\n",
       "      <td>0.978484</td>\n",
       "      <td>0.992725</td>\n",
       "    </tr>\n",
       "    <tr>\n",
       "      <th>3154</th>\n",
       "      <td>Carnival sweet ravioli</td>\n",
       "      <td>3.0</td>\n",
       "      <td>3.0</td>\n",
       "      <td>0.999805</td>\n",
       "      <td>0.978075</td>\n",
       "      <td>0.992561</td>\n",
       "    </tr>\n",
       "    <tr>\n",
       "      <th>444</th>\n",
       "      <td>Banana muffins and chocolate chips (good mood ...</td>\n",
       "      <td>2.0</td>\n",
       "      <td>2.0</td>\n",
       "      <td>0.999132</td>\n",
       "      <td>0.979396</td>\n",
       "      <td>0.992553</td>\n",
       "    </tr>\n",
       "    <tr>\n",
       "      <th>239</th>\n",
       "      <td>Muffin with the heart</td>\n",
       "      <td>2.0</td>\n",
       "      <td>2.0</td>\n",
       "      <td>0.999744</td>\n",
       "      <td>0.977926</td>\n",
       "      <td>0.992471</td>\n",
       "    </tr>\n",
       "    <tr>\n",
       "      <th>859</th>\n",
       "      <td>Strawberry ice cream</td>\n",
       "      <td>2.0</td>\n",
       "      <td>2.0</td>\n",
       "      <td>0.999285</td>\n",
       "      <td>0.978759</td>\n",
       "      <td>0.992443</td>\n",
       "    </tr>\n",
       "    <tr>\n",
       "      <th>4349</th>\n",
       "      <td>Ovetti stuffed with cream and apricot</td>\n",
       "      <td>2.0</td>\n",
       "      <td>2.0</td>\n",
       "      <td>0.999461</td>\n",
       "      <td>0.978298</td>\n",
       "      <td>0.992407</td>\n",
       "    </tr>\n",
       "  </tbody>\n",
       "</table>\n",
       "</div>"
      ],
      "text/plain": [
       "                                                  title  cost  difficulty  \\\n",
       "1886                Ice cream without berries ice cream   2.0         3.0   \n",
       "1165                                   Yogurt ice cream   2.0         2.0   \n",
       "565                                          Milk cream   2.0         2.0   \n",
       "944                                             Cookies   3.0         3.0   \n",
       "2390                                    Pan of the Dead   3.0         2.0   \n",
       "1411                            Coffee chocolate salami   2.0         2.0   \n",
       "2382                Yogurt panna cotta with peach jelly   3.0         2.0   \n",
       "3906                              Coffee with salentina   2.0         2.0   \n",
       "3322                                 Christmas brownies   2.0         2.0   \n",
       "623       Yogurt cake with strawberry jelly and berries   3.0         3.0   \n",
       "3154                             Carnival sweet ravioli   3.0         3.0   \n",
       "444   Banana muffins and chocolate chips (good mood ...   2.0         2.0   \n",
       "239                               Muffin with the heart   2.0         2.0   \n",
       "859                                Strawberry ice cream   2.0         2.0   \n",
       "4349              Ovetti stuffed with cream and apricot   2.0         2.0   \n",
       "\n",
       "      importscore  notimportscore  totalscore  \n",
       "1886     0.999778        0.980430    0.993328  \n",
       "1165     0.999443        0.980379    0.993089  \n",
       "565      0.999805        0.979652    0.993087  \n",
       "944      0.999805        0.979292    0.992967  \n",
       "2390     0.999377        0.979792    0.992848  \n",
       "1411     0.999461        0.979423    0.992782  \n",
       "2382     0.998925        0.980442    0.992764  \n",
       "3906     0.999825        0.978548    0.992733  \n",
       "3322     0.999443        0.979299    0.992729  \n",
       "623      0.999846        0.978484    0.992725  \n",
       "3154     0.999805        0.978075    0.992561  \n",
       "444      0.999132        0.979396    0.992553  \n",
       "239      0.999744        0.977926    0.992471  \n",
       "859      0.999285        0.978759    0.992443  \n",
       "4349     0.999461        0.978298    0.992407  "
      ]
     },
     "execution_count": 26,
     "metadata": {},
     "output_type": "execute_result"
    }
   ],
   "source": [
    "df[[\"title\", \"cost\", \"difficulty\", \"importscore\", \"notimportscore\", \"totalscore\"]].sort_values('totalscore', ascending=False).head(15)"
   ]
  },
  {
   "cell_type": "code",
   "execution_count": 28,
   "metadata": {},
   "outputs": [],
   "source": [
    "dish_one = df.iloc[235]\n",
    "dish_two = df.iloc[621]\n",
    "dish_three = df.iloc[831]"
   ]
  },
  {
   "cell_type": "code",
   "execution_count": 30,
   "metadata": {},
   "outputs": [
    {
     "data": {
      "text/plain": [
       "'Muffin with the heart'"
      ]
     },
     "execution_count": 30,
     "metadata": {},
     "output_type": "execute_result"
    }
   ],
   "source": [
    "dish_one[\"title\"]"
   ]
  },
  {
   "cell_type": "code",
   "execution_count": 31,
   "metadata": {},
   "outputs": [
    {
     "data": {
      "text/plain": [
       "'Tropea onion jam'"
      ]
     },
     "execution_count": 31,
     "metadata": {},
     "output_type": "execute_result"
    }
   ],
   "source": [
    "dish_two[\"title\"]"
   ]
  },
  {
   "cell_type": "code",
   "execution_count": 33,
   "metadata": {},
   "outputs": [
    {
     "data": {
      "text/plain": [
       "'Cheesecake caramel and hazelnuts'"
      ]
     },
     "execution_count": 33,
     "metadata": {},
     "output_type": "execute_result"
    }
   ],
   "source": [
    "dish_three[\"title\"]"
   ]
  },
  {
   "cell_type": "code",
   "execution_count": null,
   "metadata": {},
   "outputs": [],
   "source": []
  }
 ],
 "metadata": {
  "kernelspec": {
   "display_name": "Python 3",
   "language": "python",
   "name": "python3"
  },
  "language_info": {
   "codemirror_mode": {
    "name": "ipython",
    "version": 3
   },
   "file_extension": ".py",
   "mimetype": "text/x-python",
   "name": "python",
   "nbconvert_exporter": "python",
   "pygments_lexer": "ipython3",
   "version": "3.8.5"
  }
 },
 "nbformat": 4,
 "nbformat_minor": 4
}
